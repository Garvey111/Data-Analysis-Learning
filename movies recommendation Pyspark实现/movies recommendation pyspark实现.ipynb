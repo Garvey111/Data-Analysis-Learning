{
 "cells": [
  {
   "cell_type": "code",
   "execution_count": 38,
   "id": "2423424d",
   "metadata": {},
   "outputs": [],
   "source": [
    "import pandas as pd\n",
    "import numpy as np\n",
    "import matplotlib.pyplot as plt\n",
    "%matplotlib inline"
   ]
  },
  {
   "cell_type": "code",
   "execution_count": 2,
   "id": "c00a6e3f",
   "metadata": {},
   "outputs": [
    {
     "data": {
      "text/html": [
       "<div>\n",
       "<style scoped>\n",
       "    .dataframe tbody tr th:only-of-type {\n",
       "        vertical-align: middle;\n",
       "    }\n",
       "\n",
       "    .dataframe tbody tr th {\n",
       "        vertical-align: top;\n",
       "    }\n",
       "\n",
       "    .dataframe thead th {\n",
       "        text-align: right;\n",
       "    }\n",
       "</style>\n",
       "<table border=\"1\" class=\"dataframe\">\n",
       "  <thead>\n",
       "    <tr style=\"text-align: right;\">\n",
       "      <th></th>\n",
       "      <th>userId</th>\n",
       "      <th>movieId</th>\n",
       "      <th>rating</th>\n",
       "      <th>timestamp</th>\n",
       "    </tr>\n",
       "  </thead>\n",
       "  <tbody>\n",
       "    <tr>\n",
       "      <th>0</th>\n",
       "      <td>196</td>\n",
       "      <td>242</td>\n",
       "      <td>3</td>\n",
       "      <td>881250949</td>\n",
       "    </tr>\n",
       "    <tr>\n",
       "      <th>1</th>\n",
       "      <td>186</td>\n",
       "      <td>302</td>\n",
       "      <td>3</td>\n",
       "      <td>891717742</td>\n",
       "    </tr>\n",
       "    <tr>\n",
       "      <th>2</th>\n",
       "      <td>22</td>\n",
       "      <td>377</td>\n",
       "      <td>1</td>\n",
       "      <td>878887116</td>\n",
       "    </tr>\n",
       "    <tr>\n",
       "      <th>3</th>\n",
       "      <td>244</td>\n",
       "      <td>51</td>\n",
       "      <td>2</td>\n",
       "      <td>880606923</td>\n",
       "    </tr>\n",
       "    <tr>\n",
       "      <th>4</th>\n",
       "      <td>166</td>\n",
       "      <td>346</td>\n",
       "      <td>1</td>\n",
       "      <td>886397596</td>\n",
       "    </tr>\n",
       "    <tr>\n",
       "      <th>...</th>\n",
       "      <td>...</td>\n",
       "      <td>...</td>\n",
       "      <td>...</td>\n",
       "      <td>...</td>\n",
       "    </tr>\n",
       "    <tr>\n",
       "      <th>99995</th>\n",
       "      <td>880</td>\n",
       "      <td>476</td>\n",
       "      <td>3</td>\n",
       "      <td>880175444</td>\n",
       "    </tr>\n",
       "    <tr>\n",
       "      <th>99996</th>\n",
       "      <td>716</td>\n",
       "      <td>204</td>\n",
       "      <td>5</td>\n",
       "      <td>879795543</td>\n",
       "    </tr>\n",
       "    <tr>\n",
       "      <th>99997</th>\n",
       "      <td>276</td>\n",
       "      <td>1090</td>\n",
       "      <td>1</td>\n",
       "      <td>874795795</td>\n",
       "    </tr>\n",
       "    <tr>\n",
       "      <th>99998</th>\n",
       "      <td>13</td>\n",
       "      <td>225</td>\n",
       "      <td>2</td>\n",
       "      <td>882399156</td>\n",
       "    </tr>\n",
       "    <tr>\n",
       "      <th>99999</th>\n",
       "      <td>12</td>\n",
       "      <td>203</td>\n",
       "      <td>3</td>\n",
       "      <td>879959583</td>\n",
       "    </tr>\n",
       "  </tbody>\n",
       "</table>\n",
       "<p>100000 rows × 4 columns</p>\n",
       "</div>"
      ],
      "text/plain": [
       "       userId  movieId  rating  timestamp\n",
       "0         196      242       3  881250949\n",
       "1         186      302       3  891717742\n",
       "2          22      377       1  878887116\n",
       "3         244       51       2  880606923\n",
       "4         166      346       1  886397596\n",
       "...       ...      ...     ...        ...\n",
       "99995     880      476       3  880175444\n",
       "99996     716      204       5  879795543\n",
       "99997     276     1090       1  874795795\n",
       "99998      13      225       2  882399156\n",
       "99999      12      203       3  879959583\n",
       "\n",
       "[100000 rows x 4 columns]"
      ]
     },
     "execution_count": 2,
     "metadata": {},
     "output_type": "execute_result"
    }
   ],
   "source": [
    "dataset = pd.read_csv('./ml-100k/u.data',sep='\\t',header=None)\n",
    "dataset = dataset.rename(columns={0:'userId',1:'movieId',2:'rating',3:'timestamp'})\n",
    "dataset"
   ]
  },
  {
   "cell_type": "code",
   "execution_count": 3,
   "id": "5747b84d",
   "metadata": {},
   "outputs": [],
   "source": [
    "dataset = dataset.sort_values(by='userId')"
   ]
  },
  {
   "cell_type": "code",
   "execution_count": 4,
   "id": "677d66cf",
   "metadata": {},
   "outputs": [
    {
     "data": {
      "text/html": [
       "<div>\n",
       "<style scoped>\n",
       "    .dataframe tbody tr th:only-of-type {\n",
       "        vertical-align: middle;\n",
       "    }\n",
       "\n",
       "    .dataframe tbody tr th {\n",
       "        vertical-align: top;\n",
       "    }\n",
       "\n",
       "    .dataframe thead th {\n",
       "        text-align: right;\n",
       "    }\n",
       "</style>\n",
       "<table border=\"1\" class=\"dataframe\">\n",
       "  <thead>\n",
       "    <tr style=\"text-align: right;\">\n",
       "      <th></th>\n",
       "      <th>userId</th>\n",
       "      <th>movieId</th>\n",
       "      <th>rating</th>\n",
       "      <th>timestamp</th>\n",
       "    </tr>\n",
       "  </thead>\n",
       "  <tbody>\n",
       "    <tr>\n",
       "      <th>66567</th>\n",
       "      <td>1</td>\n",
       "      <td>55</td>\n",
       "      <td>5</td>\n",
       "      <td>875072688</td>\n",
       "    </tr>\n",
       "    <tr>\n",
       "      <th>62820</th>\n",
       "      <td>1</td>\n",
       "      <td>203</td>\n",
       "      <td>4</td>\n",
       "      <td>878542231</td>\n",
       "    </tr>\n",
       "    <tr>\n",
       "      <th>10207</th>\n",
       "      <td>1</td>\n",
       "      <td>183</td>\n",
       "      <td>5</td>\n",
       "      <td>875072262</td>\n",
       "    </tr>\n",
       "    <tr>\n",
       "      <th>9971</th>\n",
       "      <td>1</td>\n",
       "      <td>150</td>\n",
       "      <td>5</td>\n",
       "      <td>876892196</td>\n",
       "    </tr>\n",
       "    <tr>\n",
       "      <th>22496</th>\n",
       "      <td>1</td>\n",
       "      <td>68</td>\n",
       "      <td>4</td>\n",
       "      <td>875072688</td>\n",
       "    </tr>\n",
       "    <tr>\n",
       "      <th>...</th>\n",
       "      <td>...</td>\n",
       "      <td>...</td>\n",
       "      <td>...</td>\n",
       "      <td>...</td>\n",
       "    </tr>\n",
       "    <tr>\n",
       "      <th>96823</th>\n",
       "      <td>943</td>\n",
       "      <td>427</td>\n",
       "      <td>4</td>\n",
       "      <td>888639147</td>\n",
       "    </tr>\n",
       "    <tr>\n",
       "      <th>70902</th>\n",
       "      <td>943</td>\n",
       "      <td>12</td>\n",
       "      <td>5</td>\n",
       "      <td>888639093</td>\n",
       "    </tr>\n",
       "    <tr>\n",
       "      <th>84518</th>\n",
       "      <td>943</td>\n",
       "      <td>284</td>\n",
       "      <td>2</td>\n",
       "      <td>875502192</td>\n",
       "    </tr>\n",
       "    <tr>\n",
       "      <th>72321</th>\n",
       "      <td>943</td>\n",
       "      <td>62</td>\n",
       "      <td>3</td>\n",
       "      <td>888640003</td>\n",
       "    </tr>\n",
       "    <tr>\n",
       "      <th>70713</th>\n",
       "      <td>943</td>\n",
       "      <td>210</td>\n",
       "      <td>4</td>\n",
       "      <td>888639147</td>\n",
       "    </tr>\n",
       "  </tbody>\n",
       "</table>\n",
       "<p>100000 rows × 4 columns</p>\n",
       "</div>"
      ],
      "text/plain": [
       "       userId  movieId  rating  timestamp\n",
       "66567       1       55       5  875072688\n",
       "62820       1      203       4  878542231\n",
       "10207       1      183       5  875072262\n",
       "9971        1      150       5  876892196\n",
       "22496       1       68       4  875072688\n",
       "...       ...      ...     ...        ...\n",
       "96823     943      427       4  888639147\n",
       "70902     943       12       5  888639093\n",
       "84518     943      284       2  875502192\n",
       "72321     943       62       3  888640003\n",
       "70713     943      210       4  888639147\n",
       "\n",
       "[100000 rows x 4 columns]"
      ]
     },
     "execution_count": 4,
     "metadata": {},
     "output_type": "execute_result"
    }
   ],
   "source": [
    "dataset"
   ]
  },
  {
   "cell_type": "code",
   "execution_count": 5,
   "id": "7e2c7b72",
   "metadata": {},
   "outputs": [],
   "source": [
    "#dataset.to_csv('data.csv',encoding='utf-8',index=False)"
   ]
  },
  {
   "cell_type": "code",
   "execution_count": 6,
   "id": "e45467ac",
   "metadata": {},
   "outputs": [
    {
     "data": {
      "text/html": [
       "<div>\n",
       "<style scoped>\n",
       "    .dataframe tbody tr th:only-of-type {\n",
       "        vertical-align: middle;\n",
       "    }\n",
       "\n",
       "    .dataframe tbody tr th {\n",
       "        vertical-align: top;\n",
       "    }\n",
       "\n",
       "    .dataframe thead th {\n",
       "        text-align: right;\n",
       "    }\n",
       "</style>\n",
       "<table border=\"1\" class=\"dataframe\">\n",
       "  <thead>\n",
       "    <tr style=\"text-align: right;\">\n",
       "      <th></th>\n",
       "      <th>userId</th>\n",
       "      <th>age</th>\n",
       "      <th>sex</th>\n",
       "      <th>occupation</th>\n",
       "      <th>zip_code</th>\n",
       "    </tr>\n",
       "  </thead>\n",
       "  <tbody>\n",
       "    <tr>\n",
       "      <th>0</th>\n",
       "      <td>1</td>\n",
       "      <td>24</td>\n",
       "      <td>M</td>\n",
       "      <td>technician</td>\n",
       "      <td>85711</td>\n",
       "    </tr>\n",
       "    <tr>\n",
       "      <th>1</th>\n",
       "      <td>2</td>\n",
       "      <td>53</td>\n",
       "      <td>F</td>\n",
       "      <td>other</td>\n",
       "      <td>94043</td>\n",
       "    </tr>\n",
       "    <tr>\n",
       "      <th>2</th>\n",
       "      <td>3</td>\n",
       "      <td>23</td>\n",
       "      <td>M</td>\n",
       "      <td>writer</td>\n",
       "      <td>32067</td>\n",
       "    </tr>\n",
       "    <tr>\n",
       "      <th>3</th>\n",
       "      <td>4</td>\n",
       "      <td>24</td>\n",
       "      <td>M</td>\n",
       "      <td>technician</td>\n",
       "      <td>43537</td>\n",
       "    </tr>\n",
       "    <tr>\n",
       "      <th>4</th>\n",
       "      <td>5</td>\n",
       "      <td>33</td>\n",
       "      <td>F</td>\n",
       "      <td>other</td>\n",
       "      <td>15213</td>\n",
       "    </tr>\n",
       "    <tr>\n",
       "      <th>...</th>\n",
       "      <td>...</td>\n",
       "      <td>...</td>\n",
       "      <td>...</td>\n",
       "      <td>...</td>\n",
       "      <td>...</td>\n",
       "    </tr>\n",
       "    <tr>\n",
       "      <th>938</th>\n",
       "      <td>939</td>\n",
       "      <td>26</td>\n",
       "      <td>F</td>\n",
       "      <td>student</td>\n",
       "      <td>33319</td>\n",
       "    </tr>\n",
       "    <tr>\n",
       "      <th>939</th>\n",
       "      <td>940</td>\n",
       "      <td>32</td>\n",
       "      <td>M</td>\n",
       "      <td>administrator</td>\n",
       "      <td>02215</td>\n",
       "    </tr>\n",
       "    <tr>\n",
       "      <th>940</th>\n",
       "      <td>941</td>\n",
       "      <td>20</td>\n",
       "      <td>M</td>\n",
       "      <td>student</td>\n",
       "      <td>97229</td>\n",
       "    </tr>\n",
       "    <tr>\n",
       "      <th>941</th>\n",
       "      <td>942</td>\n",
       "      <td>48</td>\n",
       "      <td>F</td>\n",
       "      <td>librarian</td>\n",
       "      <td>78209</td>\n",
       "    </tr>\n",
       "    <tr>\n",
       "      <th>942</th>\n",
       "      <td>943</td>\n",
       "      <td>22</td>\n",
       "      <td>M</td>\n",
       "      <td>student</td>\n",
       "      <td>77841</td>\n",
       "    </tr>\n",
       "  </tbody>\n",
       "</table>\n",
       "<p>943 rows × 5 columns</p>\n",
       "</div>"
      ],
      "text/plain": [
       "     userId  age sex     occupation zip_code\n",
       "0         1   24   M     technician    85711\n",
       "1         2   53   F          other    94043\n",
       "2         3   23   M         writer    32067\n",
       "3         4   24   M     technician    43537\n",
       "4         5   33   F          other    15213\n",
       "..      ...  ...  ..            ...      ...\n",
       "938     939   26   F        student    33319\n",
       "939     940   32   M  administrator    02215\n",
       "940     941   20   M        student    97229\n",
       "941     942   48   F      librarian    78209\n",
       "942     943   22   M        student    77841\n",
       "\n",
       "[943 rows x 5 columns]"
      ]
     },
     "execution_count": 6,
     "metadata": {},
     "output_type": "execute_result"
    }
   ],
   "source": [
    "users = pd.read_csv('./ml-100k/u.user',sep='|',header=None)\n",
    "users = users.rename(columns={0:'userId',1:'age',2:'sex',3:'occupation',4:'zip_code'})\n",
    "users"
   ]
  },
  {
   "cell_type": "code",
   "execution_count": 39,
   "id": "130b50b6",
   "metadata": {},
   "outputs": [],
   "source": [
    "data = pd.read_csv('./ml-100k/u.item',sep='|',header=None) \n",
    "movies = data.iloc[:,0:3]\n",
    "movies = movies.rename(columns={0:'movieId',1:'movieTitle',2:'releaseDate'})"
   ]
  },
  {
   "cell_type": "code",
   "execution_count": 40,
   "id": "41e8bd36",
   "metadata": {},
   "outputs": [
    {
     "data": {
      "text/html": [
       "<div>\n",
       "<style scoped>\n",
       "    .dataframe tbody tr th:only-of-type {\n",
       "        vertical-align: middle;\n",
       "    }\n",
       "\n",
       "    .dataframe tbody tr th {\n",
       "        vertical-align: top;\n",
       "    }\n",
       "\n",
       "    .dataframe thead th {\n",
       "        text-align: right;\n",
       "    }\n",
       "</style>\n",
       "<table border=\"1\" class=\"dataframe\">\n",
       "  <thead>\n",
       "    <tr style=\"text-align: right;\">\n",
       "      <th></th>\n",
       "      <th>movieId</th>\n",
       "      <th>movieTitle</th>\n",
       "      <th>releaseDate</th>\n",
       "    </tr>\n",
       "  </thead>\n",
       "  <tbody>\n",
       "    <tr>\n",
       "      <th>0</th>\n",
       "      <td>1</td>\n",
       "      <td>Toy Story (1995)</td>\n",
       "      <td>01-Jan-1995</td>\n",
       "    </tr>\n",
       "    <tr>\n",
       "      <th>1</th>\n",
       "      <td>2</td>\n",
       "      <td>GoldenEye (1995)</td>\n",
       "      <td>01-Jan-1995</td>\n",
       "    </tr>\n",
       "    <tr>\n",
       "      <th>2</th>\n",
       "      <td>3</td>\n",
       "      <td>Four Rooms (1995)</td>\n",
       "      <td>01-Jan-1995</td>\n",
       "    </tr>\n",
       "    <tr>\n",
       "      <th>3</th>\n",
       "      <td>4</td>\n",
       "      <td>Get Shorty (1995)</td>\n",
       "      <td>01-Jan-1995</td>\n",
       "    </tr>\n",
       "    <tr>\n",
       "      <th>4</th>\n",
       "      <td>5</td>\n",
       "      <td>Copycat (1995)</td>\n",
       "      <td>01-Jan-1995</td>\n",
       "    </tr>\n",
       "    <tr>\n",
       "      <th>...</th>\n",
       "      <td>...</td>\n",
       "      <td>...</td>\n",
       "      <td>...</td>\n",
       "    </tr>\n",
       "    <tr>\n",
       "      <th>1677</th>\n",
       "      <td>1678</td>\n",
       "      <td>Mat' i syn (1997)</td>\n",
       "      <td>06-Feb-1998</td>\n",
       "    </tr>\n",
       "    <tr>\n",
       "      <th>1678</th>\n",
       "      <td>1679</td>\n",
       "      <td>B. Monkey (1998)</td>\n",
       "      <td>06-Feb-1998</td>\n",
       "    </tr>\n",
       "    <tr>\n",
       "      <th>1679</th>\n",
       "      <td>1680</td>\n",
       "      <td>Sliding Doors (1998)</td>\n",
       "      <td>01-Jan-1998</td>\n",
       "    </tr>\n",
       "    <tr>\n",
       "      <th>1680</th>\n",
       "      <td>1681</td>\n",
       "      <td>You So Crazy (1994)</td>\n",
       "      <td>01-Jan-1994</td>\n",
       "    </tr>\n",
       "    <tr>\n",
       "      <th>1681</th>\n",
       "      <td>1682</td>\n",
       "      <td>Scream of Stone (Schrei aus Stein) (1991)</td>\n",
       "      <td>08-Mar-1996</td>\n",
       "    </tr>\n",
       "  </tbody>\n",
       "</table>\n",
       "<p>1682 rows × 3 columns</p>\n",
       "</div>"
      ],
      "text/plain": [
       "      movieId                                 movieTitle  releaseDate\n",
       "0           1                           Toy Story (1995)  01-Jan-1995\n",
       "1           2                           GoldenEye (1995)  01-Jan-1995\n",
       "2           3                          Four Rooms (1995)  01-Jan-1995\n",
       "3           4                          Get Shorty (1995)  01-Jan-1995\n",
       "4           5                             Copycat (1995)  01-Jan-1995\n",
       "...       ...                                        ...          ...\n",
       "1677     1678                          Mat' i syn (1997)  06-Feb-1998\n",
       "1678     1679                           B. Monkey (1998)  06-Feb-1998\n",
       "1679     1680                       Sliding Doors (1998)  01-Jan-1998\n",
       "1680     1681                        You So Crazy (1994)  01-Jan-1994\n",
       "1681     1682  Scream of Stone (Schrei aus Stein) (1991)  08-Mar-1996\n",
       "\n",
       "[1682 rows x 3 columns]"
      ]
     },
     "execution_count": 40,
     "metadata": {},
     "output_type": "execute_result"
    }
   ],
   "source": [
    "movies"
   ]
  },
  {
   "cell_type": "code",
   "execution_count": 9,
   "id": "edf5cd76",
   "metadata": {},
   "outputs": [
    {
     "name": "stdout",
     "output_type": "stream",
     "text": [
      "<class 'pandas.core.frame.DataFrame'>\n",
      "Int64Index: 100000 entries, 66567 to 70713\n",
      "Data columns (total 4 columns):\n",
      " #   Column     Non-Null Count   Dtype\n",
      "---  ------     --------------   -----\n",
      " 0   userId     100000 non-null  int64\n",
      " 1   movieId    100000 non-null  int64\n",
      " 2   rating     100000 non-null  int64\n",
      " 3   timestamp  100000 non-null  int64\n",
      "dtypes: int64(4)\n",
      "memory usage: 3.8 MB\n"
     ]
    },
    {
     "data": {
      "text/plain": [
       "None"
      ]
     },
     "metadata": {},
     "output_type": "display_data"
    },
    {
     "data": {
      "text/html": [
       "<div>\n",
       "<style scoped>\n",
       "    .dataframe tbody tr th:only-of-type {\n",
       "        vertical-align: middle;\n",
       "    }\n",
       "\n",
       "    .dataframe tbody tr th {\n",
       "        vertical-align: top;\n",
       "    }\n",
       "\n",
       "    .dataframe thead th {\n",
       "        text-align: right;\n",
       "    }\n",
       "</style>\n",
       "<table border=\"1\" class=\"dataframe\">\n",
       "  <thead>\n",
       "    <tr style=\"text-align: right;\">\n",
       "      <th></th>\n",
       "      <th>userId</th>\n",
       "      <th>movieId</th>\n",
       "      <th>rating</th>\n",
       "      <th>timestamp</th>\n",
       "    </tr>\n",
       "  </thead>\n",
       "  <tbody>\n",
       "    <tr>\n",
       "      <th>count</th>\n",
       "      <td>100000.00000</td>\n",
       "      <td>100000.000000</td>\n",
       "      <td>100000.000000</td>\n",
       "      <td>1.000000e+05</td>\n",
       "    </tr>\n",
       "    <tr>\n",
       "      <th>mean</th>\n",
       "      <td>462.48475</td>\n",
       "      <td>425.530130</td>\n",
       "      <td>3.529860</td>\n",
       "      <td>8.835289e+08</td>\n",
       "    </tr>\n",
       "    <tr>\n",
       "      <th>std</th>\n",
       "      <td>266.61442</td>\n",
       "      <td>330.798356</td>\n",
       "      <td>1.125674</td>\n",
       "      <td>5.343856e+06</td>\n",
       "    </tr>\n",
       "    <tr>\n",
       "      <th>min</th>\n",
       "      <td>1.00000</td>\n",
       "      <td>1.000000</td>\n",
       "      <td>1.000000</td>\n",
       "      <td>8.747247e+08</td>\n",
       "    </tr>\n",
       "    <tr>\n",
       "      <th>25%</th>\n",
       "      <td>254.00000</td>\n",
       "      <td>175.000000</td>\n",
       "      <td>3.000000</td>\n",
       "      <td>8.794487e+08</td>\n",
       "    </tr>\n",
       "    <tr>\n",
       "      <th>50%</th>\n",
       "      <td>447.00000</td>\n",
       "      <td>322.000000</td>\n",
       "      <td>4.000000</td>\n",
       "      <td>8.828269e+08</td>\n",
       "    </tr>\n",
       "    <tr>\n",
       "      <th>75%</th>\n",
       "      <td>682.00000</td>\n",
       "      <td>631.000000</td>\n",
       "      <td>4.000000</td>\n",
       "      <td>8.882600e+08</td>\n",
       "    </tr>\n",
       "    <tr>\n",
       "      <th>max</th>\n",
       "      <td>943.00000</td>\n",
       "      <td>1682.000000</td>\n",
       "      <td>5.000000</td>\n",
       "      <td>8.932866e+08</td>\n",
       "    </tr>\n",
       "  </tbody>\n",
       "</table>\n",
       "</div>"
      ],
      "text/plain": [
       "             userId        movieId         rating     timestamp\n",
       "count  100000.00000  100000.000000  100000.000000  1.000000e+05\n",
       "mean      462.48475     425.530130       3.529860  8.835289e+08\n",
       "std       266.61442     330.798356       1.125674  5.343856e+06\n",
       "min         1.00000       1.000000       1.000000  8.747247e+08\n",
       "25%       254.00000     175.000000       3.000000  8.794487e+08\n",
       "50%       447.00000     322.000000       4.000000  8.828269e+08\n",
       "75%       682.00000     631.000000       4.000000  8.882600e+08\n",
       "max       943.00000    1682.000000       5.000000  8.932866e+08"
      ]
     },
     "metadata": {},
     "output_type": "display_data"
    }
   ],
   "source": [
    "display(dataset.info())\n",
    "display(dataset.describe())"
   ]
  },
  {
   "cell_type": "code",
   "execution_count": 10,
   "id": "dc0e54ab",
   "metadata": {},
   "outputs": [
    {
     "name": "stdout",
     "output_type": "stream",
     "text": [
      "<class 'pandas.core.frame.DataFrame'>\n",
      "RangeIndex: 943 entries, 0 to 942\n",
      "Data columns (total 5 columns):\n",
      " #   Column      Non-Null Count  Dtype \n",
      "---  ------      --------------  ----- \n",
      " 0   userId      943 non-null    int64 \n",
      " 1   age         943 non-null    int64 \n",
      " 2   sex         943 non-null    object\n",
      " 3   occupation  943 non-null    object\n",
      " 4   zip_code    943 non-null    object\n",
      "dtypes: int64(2), object(3)\n",
      "memory usage: 37.0+ KB\n"
     ]
    },
    {
     "data": {
      "text/plain": [
       "None"
      ]
     },
     "metadata": {},
     "output_type": "display_data"
    },
    {
     "data": {
      "text/html": [
       "<div>\n",
       "<style scoped>\n",
       "    .dataframe tbody tr th:only-of-type {\n",
       "        vertical-align: middle;\n",
       "    }\n",
       "\n",
       "    .dataframe tbody tr th {\n",
       "        vertical-align: top;\n",
       "    }\n",
       "\n",
       "    .dataframe thead th {\n",
       "        text-align: right;\n",
       "    }\n",
       "</style>\n",
       "<table border=\"1\" class=\"dataframe\">\n",
       "  <thead>\n",
       "    <tr style=\"text-align: right;\">\n",
       "      <th></th>\n",
       "      <th>userId</th>\n",
       "      <th>age</th>\n",
       "    </tr>\n",
       "  </thead>\n",
       "  <tbody>\n",
       "    <tr>\n",
       "      <th>count</th>\n",
       "      <td>943.000000</td>\n",
       "      <td>943.000000</td>\n",
       "    </tr>\n",
       "    <tr>\n",
       "      <th>mean</th>\n",
       "      <td>472.000000</td>\n",
       "      <td>34.051962</td>\n",
       "    </tr>\n",
       "    <tr>\n",
       "      <th>std</th>\n",
       "      <td>272.364951</td>\n",
       "      <td>12.192740</td>\n",
       "    </tr>\n",
       "    <tr>\n",
       "      <th>min</th>\n",
       "      <td>1.000000</td>\n",
       "      <td>7.000000</td>\n",
       "    </tr>\n",
       "    <tr>\n",
       "      <th>25%</th>\n",
       "      <td>236.500000</td>\n",
       "      <td>25.000000</td>\n",
       "    </tr>\n",
       "    <tr>\n",
       "      <th>50%</th>\n",
       "      <td>472.000000</td>\n",
       "      <td>31.000000</td>\n",
       "    </tr>\n",
       "    <tr>\n",
       "      <th>75%</th>\n",
       "      <td>707.500000</td>\n",
       "      <td>43.000000</td>\n",
       "    </tr>\n",
       "    <tr>\n",
       "      <th>max</th>\n",
       "      <td>943.000000</td>\n",
       "      <td>73.000000</td>\n",
       "    </tr>\n",
       "  </tbody>\n",
       "</table>\n",
       "</div>"
      ],
      "text/plain": [
       "           userId         age\n",
       "count  943.000000  943.000000\n",
       "mean   472.000000   34.051962\n",
       "std    272.364951   12.192740\n",
       "min      1.000000    7.000000\n",
       "25%    236.500000   25.000000\n",
       "50%    472.000000   31.000000\n",
       "75%    707.500000   43.000000\n",
       "max    943.000000   73.000000"
      ]
     },
     "metadata": {},
     "output_type": "display_data"
    }
   ],
   "source": [
    "display(users.info())\n",
    "display(users.describe())"
   ]
  },
  {
   "cell_type": "code",
   "execution_count": 11,
   "id": "a84f8396",
   "metadata": {},
   "outputs": [
    {
     "name": "stdout",
     "output_type": "stream",
     "text": [
      "<class 'pandas.core.frame.DataFrame'>\n",
      "RangeIndex: 1682 entries, 0 to 1681\n",
      "Data columns (total 3 columns):\n",
      " #   Column       Non-Null Count  Dtype \n",
      "---  ------       --------------  ----- \n",
      " 0   movieId      1682 non-null   int64 \n",
      " 1   movieTitle   1682 non-null   object\n",
      " 2   releaseDate  1681 non-null   object\n",
      "dtypes: int64(1), object(2)\n",
      "memory usage: 39.5+ KB\n"
     ]
    },
    {
     "data": {
      "text/plain": [
       "None"
      ]
     },
     "metadata": {},
     "output_type": "display_data"
    },
    {
     "data": {
      "text/html": [
       "<div>\n",
       "<style scoped>\n",
       "    .dataframe tbody tr th:only-of-type {\n",
       "        vertical-align: middle;\n",
       "    }\n",
       "\n",
       "    .dataframe tbody tr th {\n",
       "        vertical-align: top;\n",
       "    }\n",
       "\n",
       "    .dataframe thead th {\n",
       "        text-align: right;\n",
       "    }\n",
       "</style>\n",
       "<table border=\"1\" class=\"dataframe\">\n",
       "  <thead>\n",
       "    <tr style=\"text-align: right;\">\n",
       "      <th></th>\n",
       "      <th>movieId</th>\n",
       "    </tr>\n",
       "  </thead>\n",
       "  <tbody>\n",
       "    <tr>\n",
       "      <th>count</th>\n",
       "      <td>1682.000000</td>\n",
       "    </tr>\n",
       "    <tr>\n",
       "      <th>mean</th>\n",
       "      <td>841.500000</td>\n",
       "    </tr>\n",
       "    <tr>\n",
       "      <th>std</th>\n",
       "      <td>485.695893</td>\n",
       "    </tr>\n",
       "    <tr>\n",
       "      <th>min</th>\n",
       "      <td>1.000000</td>\n",
       "    </tr>\n",
       "    <tr>\n",
       "      <th>25%</th>\n",
       "      <td>421.250000</td>\n",
       "    </tr>\n",
       "    <tr>\n",
       "      <th>50%</th>\n",
       "      <td>841.500000</td>\n",
       "    </tr>\n",
       "    <tr>\n",
       "      <th>75%</th>\n",
       "      <td>1261.750000</td>\n",
       "    </tr>\n",
       "    <tr>\n",
       "      <th>max</th>\n",
       "      <td>1682.000000</td>\n",
       "    </tr>\n",
       "  </tbody>\n",
       "</table>\n",
       "</div>"
      ],
      "text/plain": [
       "           movieId\n",
       "count  1682.000000\n",
       "mean    841.500000\n",
       "std     485.695893\n",
       "min       1.000000\n",
       "25%     421.250000\n",
       "50%     841.500000\n",
       "75%    1261.750000\n",
       "max    1682.000000"
      ]
     },
     "metadata": {},
     "output_type": "display_data"
    }
   ],
   "source": [
    "display(movies.info())\n",
    "display(movies.describe())"
   ]
  },
  {
   "cell_type": "markdown",
   "id": "6785ea9b",
   "metadata": {},
   "source": [
    "## 构建模型1"
   ]
  },
  {
   "cell_type": "markdown",
   "id": "6386a9e0",
   "metadata": {},
   "source": [
    "# pyspark\n"
   ]
  },
  {
   "cell_type": "markdown",
   "id": "1669871c",
   "metadata": {},
   "source": [
    "## 构建模型pyspark\n"
   ]
  },
  {
   "cell_type": "code",
   "execution_count": 113,
   "id": "5a823ffd",
   "metadata": {},
   "outputs": [],
   "source": [
    "from pyspark.ml.evaluation import RegressionEvaluator\n",
    "from pyspark.ml.recommendation import ALS\n",
    "from pyspark.sql import Row\n",
    "from pyspark.sql import SparkSession\n",
    "from datetime import *\n",
    "from pyspark.sql.types import StructField,StructType,IntegerType\n",
    "from pyspark.sql.functions import rand"
   ]
  },
  {
   "cell_type": "code",
   "execution_count": 114,
   "id": "f31de60d",
   "metadata": {},
   "outputs": [],
   "source": [
    "#获取现有的SparkSession\n",
    "spark = SparkSession.builder.getOrCreate()"
   ]
  },
  {
   "cell_type": "code",
   "execution_count": 115,
   "id": "633a54ee",
   "metadata": {},
   "outputs": [],
   "source": [
    "\n",
    "#指定构建模式\n",
    "schema = StructType(\n",
    "[\n",
    "    StructField('userId',IntegerType(),True),\n",
    "    StructField('movieId',IntegerType(),True),\n",
    "    StructField('rating',IntegerType(),True),\n",
    "    StructField('timestamp',IntegerType(),True)\n",
    "    \n",
    "])\n",
    "#读入数据集\n",
    "#df = spark.read.csv(\"ml-100k///u.data\",header = False,schema = schema,encoding = 'utf-8',sep='\\t')\n",
    "df = spark.read.csv(\"data.csv\",header = False,schema = schema,encoding = 'utf-8',sep=',')"
   ]
  },
  {
   "cell_type": "code",
   "execution_count": 258,
   "id": "9a1553b8",
   "metadata": {},
   "outputs": [
    {
     "data": {
      "text/plain": [
       "False"
      ]
     },
     "execution_count": 258,
     "metadata": {},
     "output_type": "execute_result"
    }
   ],
   "source": [
    "df.isEmpty()"
   ]
  },
  {
   "cell_type": "code",
   "execution_count": 116,
   "id": "72ffc85d",
   "metadata": {},
   "outputs": [
    {
     "name": "stdout",
     "output_type": "stream",
     "text": [
      "+------+-------+------+---------+\n",
      "|userId|movieId|rating|timestamp|\n",
      "+------+-------+------+---------+\n",
      "|     1|     55|     5|875072688|\n",
      "|     1|    203|     4|878542231|\n",
      "|     1|    183|     5|875072262|\n",
      "|     1|    150|     5|876892196|\n",
      "|     1|     68|     4|875072688|\n",
      "|     1|    201|     3|878542960|\n",
      "|     1|    157|     4|876892918|\n",
      "|     1|    184|     4|875072956|\n",
      "|     1|    210|     4|878542909|\n",
      "|     1|    163|     4|875072442|\n",
      "|     1|    271|     2|887431672|\n",
      "|     1|    146|     4|875071561|\n",
      "|     1|    176|     5|876892468|\n",
      "|     1|    144|     4|875073180|\n",
      "|     1|     53|     3|876893206|\n",
      "|     1|    160|     4|875072547|\n",
      "|     1|     33|     4|878542699|\n",
      "|     1|     44|     5|878543541|\n",
      "|     1|     97|     3|875073128|\n",
      "|     1|     14|     5|874965706|\n",
      "+------+-------+------+---------+\n",
      "only showing top 20 rows\n",
      "\n"
     ]
    }
   ],
   "source": [
    "df.show()"
   ]
  },
  {
   "cell_type": "code",
   "execution_count": 117,
   "id": "889ddda0",
   "metadata": {},
   "outputs": [
    {
     "name": "stdout",
     "output_type": "stream",
     "text": [
      "+-------+-----------------+-----------------+------------------+-----------------+\n",
      "|summary|           userId|          movieId|            rating|        timestamp|\n",
      "+-------+-----------------+-----------------+------------------+-----------------+\n",
      "|  count|           100000|           100000|            100000|           100000|\n",
      "|   mean|        462.48475|        425.53013|           3.52986|8.8352885148862E8|\n",
      "| stddev|266.6144201275064|330.7983563255851|1.1256735991443163| 5343856.18950269|\n",
      "|    min|                1|                1|                 1|        874724710|\n",
      "|    max|              943|             1682|                 5|        893286638|\n",
      "+-------+-----------------+-----------------+------------------+-----------------+\n",
      "\n"
     ]
    }
   ],
   "source": [
    "df.describe().show()"
   ]
  },
  {
   "cell_type": "code",
   "execution_count": 118,
   "id": "03b14591",
   "metadata": {},
   "outputs": [
    {
     "data": {
      "text/plain": [
       "[('userId', 'int'),\n",
       " ('movieId', 'int'),\n",
       " ('rating', 'int'),\n",
       " ('timestamp', 'int')]"
      ]
     },
     "execution_count": 118,
     "metadata": {},
     "output_type": "execute_result"
    }
   ],
   "source": [
    "df.dtypes"
   ]
  },
  {
   "cell_type": "code",
   "execution_count": 119,
   "id": "53d49190",
   "metadata": {},
   "outputs": [],
   "source": [
    "#temp = df.toDF({'_c0':\"userId\",'_c1':\"movieId\",'_c2':\"rating\",'_c3':\"timestamp\"})\n",
    "#temp = df.selectExpr(\"_c0 as userId\",\"_c1 as movieId\",\"_c2 as rating\",\"_c3 as timestamp\")\n",
    "#temp.show()"
   ]
  },
  {
   "cell_type": "code",
   "execution_count": 120,
   "id": "98d1ed7f",
   "metadata": {},
   "outputs": [
    {
     "name": "stdout",
     "output_type": "stream",
     "text": [
      "+------+-------+------+\n",
      "|userId|movieId|rating|\n",
      "+------+-------+------+\n",
      "|     1|     55|     5|\n",
      "|     1|    203|     4|\n",
      "|     1|    183|     5|\n",
      "|     1|    150|     5|\n",
      "|     1|     68|     4|\n",
      "|     1|    201|     3|\n",
      "|     1|    157|     4|\n",
      "|     1|    184|     4|\n",
      "|     1|    210|     4|\n",
      "|     1|    163|     4|\n",
      "|     1|    271|     2|\n",
      "|     1|    146|     4|\n",
      "|     1|    176|     5|\n",
      "|     1|    144|     4|\n",
      "|     1|     53|     3|\n",
      "|     1|    160|     4|\n",
      "|     1|     33|     4|\n",
      "|     1|     44|     5|\n",
      "|     1|     97|     3|\n",
      "|     1|     14|     5|\n",
      "+------+-------+------+\n",
      "only showing top 20 rows\n",
      "\n"
     ]
    }
   ],
   "source": [
    "temp = df.drop('timestamp')\n",
    "temp.show()"
   ]
  },
  {
   "cell_type": "code",
   "execution_count": 121,
   "id": "8023811a",
   "metadata": {},
   "outputs": [
    {
     "name": "stdout",
     "output_type": "stream",
     "text": [
      "+-------+-----------------+-----------------+------------------+\n",
      "|summary|           userId|          movieId|            rating|\n",
      "+-------+-----------------+-----------------+------------------+\n",
      "|  count|           100000|           100000|            100000|\n",
      "|   mean|        462.48475|        425.53013|           3.52986|\n",
      "| stddev|266.6144201275064|330.7983563255851|1.1256735991443163|\n",
      "|    min|                1|                1|                 1|\n",
      "|    max|              943|             1682|                 5|\n",
      "+-------+-----------------+-----------------+------------------+\n",
      "\n"
     ]
    }
   ],
   "source": [
    "temp.describe().show()"
   ]
  },
  {
   "cell_type": "code",
   "execution_count": 122,
   "id": "7de9afd6",
   "metadata": {},
   "outputs": [
    {
     "data": {
      "text/plain": [
       "[('userId', 'int'), ('movieId', 'int'), ('rating', 'int')]"
      ]
     },
     "execution_count": 122,
     "metadata": {},
     "output_type": "execute_result"
    }
   ],
   "source": [
    "temp.dtypes"
   ]
  },
  {
   "cell_type": "code",
   "execution_count": 123,
   "id": "372017bb",
   "metadata": {},
   "outputs": [
    {
     "name": "stdout",
     "output_type": "stream",
     "text": [
      "+------+-------+------+\n",
      "|userId|movieId|rating|\n",
      "+------+-------+------+\n",
      "|     1|     55|     5|\n",
      "|     1|    203|     4|\n",
      "|     1|    183|     5|\n",
      "|     1|    150|     5|\n",
      "|     1|     68|     4|\n",
      "|     1|    201|     3|\n",
      "|     1|    157|     4|\n",
      "|     1|    184|     4|\n",
      "|     1|    210|     4|\n",
      "|     1|    163|     4|\n",
      "|     1|    271|     2|\n",
      "|     1|    146|     4|\n",
      "|     1|    176|     5|\n",
      "|     1|    144|     4|\n",
      "|     1|     53|     3|\n",
      "|     1|    160|     4|\n",
      "|     1|     33|     4|\n",
      "|     1|     44|     5|\n",
      "|     1|     97|     3|\n",
      "|     1|     14|     5|\n",
      "+------+-------+------+\n",
      "only showing top 20 rows\n",
      "\n"
     ]
    },
    {
     "data": {
      "text/plain": [
       "pyspark.sql.dataframe.DataFrame"
      ]
     },
     "execution_count": 123,
     "metadata": {},
     "output_type": "execute_result"
    }
   ],
   "source": [
    "temp.show()\n",
    "type(temp)"
   ]
  },
  {
   "cell_type": "code",
   "execution_count": 124,
   "id": "90f689bd",
   "metadata": {},
   "outputs": [
    {
     "name": "stdout",
     "output_type": "stream",
     "text": [
      "root\n",
      " |-- userId: integer (nullable = true)\n",
      " |-- movieId: integer (nullable = true)\n",
      " |-- rating: integer (nullable = true)\n",
      "\n"
     ]
    }
   ],
   "source": [
    "temp.printSchema()"
   ]
  },
  {
   "cell_type": "code",
   "execution_count": 125,
   "id": "f7218f31",
   "metadata": {},
   "outputs": [],
   "source": [
    "#把数据集划分训练集和测试集(80%,20%)\n",
    "train,test = temp.randomSplit([0.8,0.2])"
   ]
  },
  {
   "cell_type": "code",
   "execution_count": 126,
   "id": "4924fcef",
   "metadata": {},
   "outputs": [
    {
     "data": {
      "text/plain": [
       "[('userId', 'int'), ('movieId', 'int'), ('rating', 'int')]"
      ]
     },
     "execution_count": 126,
     "metadata": {},
     "output_type": "execute_result"
    }
   ],
   "source": [
    "train.dtypes"
   ]
  },
  {
   "cell_type": "code",
   "execution_count": 127,
   "id": "5e13afa2",
   "metadata": {},
   "outputs": [
    {
     "name": "stdout",
     "output_type": "stream",
     "text": [
      "+------+-------+------+\n",
      "|userId|movieId|rating|\n",
      "+------+-------+------+\n",
      "|     1|      1|     5|\n",
      "|     1|      2|     3|\n",
      "|     1|      3|     4|\n",
      "|     1|      6|     5|\n",
      "|     1|      7|     4|\n",
      "|     1|     10|     3|\n",
      "|     1|     12|     5|\n",
      "|     1|     13|     5|\n",
      "|     1|     14|     5|\n",
      "|     1|     15|     5|\n",
      "|     1|     16|     5|\n",
      "|     1|     19|     5|\n",
      "|     1|     20|     4|\n",
      "|     1|     22|     4|\n",
      "|     1|     23|     4|\n",
      "|     1|     24|     3|\n",
      "|     1|     26|     3|\n",
      "|     1|     27|     2|\n",
      "|     1|     28|     4|\n",
      "|     1|     29|     1|\n",
      "+------+-------+------+\n",
      "only showing top 20 rows\n",
      "\n"
     ]
    }
   ],
   "source": [
    "train.show()"
   ]
  },
  {
   "cell_type": "code",
   "execution_count": 128,
   "id": "6387706d",
   "metadata": {},
   "outputs": [
    {
     "name": "stdout",
     "output_type": "stream",
     "text": [
      "+------+-------+------+\n",
      "|userId|movieId|rating|\n",
      "+------+-------+------+\n",
      "|     1|      4|     3|\n",
      "|     1|      5|     3|\n",
      "|     1|      8|     1|\n",
      "|     1|      9|     5|\n",
      "|     1|     11|     2|\n",
      "|     1|     17|     3|\n",
      "|     1|     18|     4|\n",
      "|     1|     21|     1|\n",
      "|     1|     25|     4|\n",
      "|     1|     34|     2|\n",
      "|     1|     45|     5|\n",
      "|     1|     46|     4|\n",
      "|     1|     47|     4|\n",
      "|     1|     49|     3|\n",
      "|     1|     56|     4|\n",
      "|     1|     59|     5|\n",
      "|     1|     62|     3|\n",
      "|     1|     66|     4|\n",
      "|     1|     71|     3|\n",
      "|     1|     73|     3|\n",
      "+------+-------+------+\n",
      "only showing top 20 rows\n",
      "\n"
     ]
    }
   ],
   "source": [
    "test.show()"
   ]
  },
  {
   "cell_type": "code",
   "execution_count": 129,
   "id": "2c1153a3",
   "metadata": {},
   "outputs": [
    {
     "name": "stdout",
     "output_type": "stream",
     "text": [
      "+------+-------+------+----------+\n",
      "|userId|movieId|rating|prediction|\n",
      "+------+-------+------+----------+\n",
      "|     1|      4|     3|  3.660544|\n",
      "|     1|      5|     3| 3.2065282|\n",
      "|     1|      8|     1| 4.0137224|\n",
      "|     1|      9|     5|  4.450247|\n",
      "|     1|     11|     2|  4.300669|\n",
      "|     1|     17|     3| 2.9935288|\n",
      "|     1|     18|     4| 3.7635968|\n",
      "|     1|     21|     1|  2.697554|\n",
      "|     1|     25|     4| 3.5863023|\n",
      "|     1|     34|     2|0.91532433|\n",
      "|     1|     45|     5| 5.0524964|\n",
      "|     1|     46|     4| 4.0717874|\n",
      "|     1|     47|     4| 3.4950066|\n",
      "|     1|     49|     3| 3.9482698|\n",
      "|     1|     56|     4| 5.1433554|\n",
      "|     1|     59|     5| 4.8182287|\n",
      "|     1|     62|     3| 3.2599528|\n",
      "|     1|     66|     4|  2.947281|\n",
      "|     1|     71|     3|  3.393766|\n",
      "|     1|     73|     3|  3.053169|\n",
      "+------+-------+------+----------+\n",
      "only showing top 20 rows\n",
      "\n"
     ]
    }
   ],
   "source": [
    "#使用ALS来建立推荐模型，采用显性反馈\n",
    "alsExplicit  = ALS(maxIter=5, regParam=0.01, userCol='userId',itemCol='movieId', ratingCol='rating',alpha=1.0,seed=0)\n",
    "#把推荐模型放在训练数据上训练\n",
    "modelExplicit = alsExplicit.fit(train)\n",
    "#使用训练好的推荐模型对测试集进行预测评分，得到预测评分的数据集\n",
    "predictionsExplicit = modelExplicit.transform(test)\n",
    "#显性反馈\n",
    "predictionsExplicit.show()"
   ]
  },
  {
   "cell_type": "code",
   "execution_count": 130,
   "id": "9ebf56a4",
   "metadata": {},
   "outputs": [
    {
     "data": {
      "text/plain": [
       "[('userId', 'int'),\n",
       " ('movieId', 'int'),\n",
       " ('rating', 'int'),\n",
       " ('prediction', 'float')]"
      ]
     },
     "execution_count": 130,
     "metadata": {},
     "output_type": "execute_result"
    }
   ],
   "source": [
    "predictionsExplicit.dtypes"
   ]
  },
  {
   "cell_type": "code",
   "execution_count": 131,
   "id": "81ef6db0",
   "metadata": {},
   "outputs": [
    {
     "name": "stdout",
     "output_type": "stream",
     "text": [
      "+-------+------------------+------------------+------------------+\n",
      "|summary|            userId|           movieId|            rating|\n",
      "+-------+------------------+------------------+------------------+\n",
      "|  count|             20077|             20077|             20077|\n",
      "|   mean| 462.0234596802311| 425.2108382726503| 3.533446232006774|\n",
      "| stddev|266.45759274665414|328.96862036367594|1.1176282876702133|\n",
      "|    min|                 1|                 1|                 1|\n",
      "|    max|               943|              1680|                 5|\n",
      "+-------+------------------+------------------+------------------+\n",
      "\n"
     ]
    }
   ],
   "source": [
    "test.describe().show()"
   ]
  },
  {
   "cell_type": "code",
   "execution_count": 91,
   "id": "f826272b",
   "metadata": {},
   "outputs": [],
   "source": [
    "# 单个用户\n",
    "#single_user = test.filter(test['userId']==62).select(['movieId','userId','rating'])"
   ]
  },
  {
   "cell_type": "code",
   "execution_count": 92,
   "id": "0e124ca0",
   "metadata": {},
   "outputs": [],
   "source": [
    "#single_user.show(5)"
   ]
  },
  {
   "cell_type": "code",
   "execution_count": 93,
   "id": "565bc935",
   "metadata": {},
   "outputs": [],
   "source": [
    "#reccomendations = modelExplicit.transform(single_user)"
   ]
  },
  {
   "cell_type": "code",
   "execution_count": 94,
   "id": "9af2b58b",
   "metadata": {},
   "outputs": [],
   "source": [
    "#reccomendations.sort('prediction',ascending=False).show(5)"
   ]
  },
  {
   "cell_type": "code",
   "execution_count": 95,
   "id": "afb8fb05",
   "metadata": {},
   "outputs": [],
   "source": [
    "# 下方代码有问题，np.random.randint(0,15000)"
   ]
  },
  {
   "cell_type": "code",
   "execution_count": 96,
   "id": "40b7f14a",
   "metadata": {},
   "outputs": [],
   "source": [
    "#x = np.random.randint(0,19000)\n",
    "#test_ = test.take(x)[np.random.randint(0,x-1)]"
   ]
  },
  {
   "cell_type": "code",
   "execution_count": 97,
   "id": "b1289d60",
   "metadata": {},
   "outputs": [],
   "source": [
    "#test_"
   ]
  },
  {
   "cell_type": "code",
   "execution_count": 98,
   "id": "fee806b8",
   "metadata": {},
   "outputs": [],
   "source": [
    "#test_ = test_[0:2]"
   ]
  },
  {
   "cell_type": "code",
   "execution_count": 99,
   "id": "cec38e11",
   "metadata": {},
   "outputs": [],
   "source": [
    "#schema = StructType(\n",
    "#[\n",
    "#    StructField('userId',IntegerType(),True),\n",
    "#    StructField('movieId',IntegerType(),True),\n",
    "#    #StructField('rating',IntegerType(),True),\n",
    "#    \n",
    "#])\n",
    "#test_demo = spark.createDataFrame([test_],schema = schema)"
   ]
  },
  {
   "cell_type": "code",
   "execution_count": 100,
   "id": "5d60f7a2",
   "metadata": {},
   "outputs": [],
   "source": [
    "#test_demo"
   ]
  },
  {
   "cell_type": "code",
   "execution_count": 101,
   "id": "295f5b48",
   "metadata": {},
   "outputs": [],
   "source": [
    "#result = modelExplicit.transform(test_demo)"
   ]
  },
  {
   "cell_type": "code",
   "execution_count": 102,
   "id": "14d446b6",
   "metadata": {},
   "outputs": [],
   "source": [
    "#result.show()"
   ]
  },
  {
   "cell_type": "markdown",
   "id": "d93083a8",
   "metadata": {},
   "source": [
    "## 模型评估"
   ]
  },
  {
   "cell_type": "code",
   "execution_count": 132,
   "id": "5345b20b",
   "metadata": {},
   "outputs": [],
   "source": [
    "#去除空值\n",
    "predictionsExplicit = predictionsExplicit.na.drop(how=\"any\",subset=['prediction'])"
   ]
  },
  {
   "cell_type": "code",
   "execution_count": 133,
   "id": "bb309c6c",
   "metadata": {},
   "outputs": [],
   "source": [
    "#采取对模型的均方根误差进行评估\n",
    "evaluator = RegressionEvaluator().setMetricName(\"rmse\").setLabelCol(\"rating\").setPredictionCol(\"prediction\")"
   ]
  },
  {
   "cell_type": "code",
   "execution_count": 134,
   "id": "6bdd568e",
   "metadata": {},
   "outputs": [],
   "source": [
    "#显性反馈的均方误差\n",
    "rmseExplicit = evaluator.evaluate(predictionsExplicit)"
   ]
  },
  {
   "cell_type": "code",
   "execution_count": 135,
   "id": "97692b03",
   "metadata": {},
   "outputs": [
    {
     "name": "stdout",
     "output_type": "stream",
     "text": [
      "显性反馈的均方误差 =  1.0607406237967845\n"
     ]
    }
   ],
   "source": [
    "print(\"显性反馈的均方误差 = \",rmseExplicit)"
   ]
  },
  {
   "cell_type": "code",
   "execution_count": null,
   "id": "2f9762bf",
   "metadata": {},
   "outputs": [],
   "source": [
    "#去除空值\n",
    "#predictionsExplicit = predictionsExplicit.na.drop(how=\"any\",subset=['prediction'])\n",
    "#采取对模型的均方根误差进行评估\n",
    "#evaluator = RegressionEvaluator().setMetricName(\"rmse\").setLabelCol(\"rating\").setPredictionCol(\"prediction\")\n",
    "#显性反馈的均方误差\n",
    "#rmseExplicit = evaluator.evaluate(predictionsExplicit)"
   ]
  },
  {
   "cell_type": "markdown",
   "id": "7eb9e793",
   "metadata": {},
   "source": [
    "## 模型应用"
   ]
  },
  {
   "cell_type": "code",
   "execution_count": 136,
   "id": "5b7feb7f",
   "metadata": {},
   "outputs": [
    {
     "data": {
      "text/plain": [
       "10"
      ]
     },
     "execution_count": 136,
     "metadata": {},
     "output_type": "execute_result"
    }
   ],
   "source": [
    "modelExplicit.rank"
   ]
  },
  {
   "cell_type": "code",
   "execution_count": 137,
   "id": "9392fe2f",
   "metadata": {},
   "outputs": [
    {
     "data": {
      "text/html": [
       "<div>\n",
       "<style scoped>\n",
       "    .dataframe tbody tr th:only-of-type {\n",
       "        vertical-align: middle;\n",
       "    }\n",
       "\n",
       "    .dataframe tbody tr th {\n",
       "        vertical-align: top;\n",
       "    }\n",
       "\n",
       "    .dataframe thead th {\n",
       "        text-align: right;\n",
       "    }\n",
       "</style>\n",
       "<table border=\"1\" class=\"dataframe\">\n",
       "  <thead>\n",
       "    <tr style=\"text-align: right;\">\n",
       "      <th></th>\n",
       "      <th>movieId</th>\n",
       "      <th>movieTitle</th>\n",
       "    </tr>\n",
       "  </thead>\n",
       "  <tbody>\n",
       "    <tr>\n",
       "      <th>0</th>\n",
       "      <td>1</td>\n",
       "      <td>Toy Story (1995)</td>\n",
       "    </tr>\n",
       "    <tr>\n",
       "      <th>1</th>\n",
       "      <td>2</td>\n",
       "      <td>GoldenEye (1995)</td>\n",
       "    </tr>\n",
       "    <tr>\n",
       "      <th>2</th>\n",
       "      <td>3</td>\n",
       "      <td>Four Rooms (1995)</td>\n",
       "    </tr>\n",
       "    <tr>\n",
       "      <th>3</th>\n",
       "      <td>4</td>\n",
       "      <td>Get Shorty (1995)</td>\n",
       "    </tr>\n",
       "    <tr>\n",
       "      <th>4</th>\n",
       "      <td>5</td>\n",
       "      <td>Copycat (1995)</td>\n",
       "    </tr>\n",
       "    <tr>\n",
       "      <th>...</th>\n",
       "      <td>...</td>\n",
       "      <td>...</td>\n",
       "    </tr>\n",
       "    <tr>\n",
       "      <th>1677</th>\n",
       "      <td>1678</td>\n",
       "      <td>Mat' i syn (1997)</td>\n",
       "    </tr>\n",
       "    <tr>\n",
       "      <th>1678</th>\n",
       "      <td>1679</td>\n",
       "      <td>B. Monkey (1998)</td>\n",
       "    </tr>\n",
       "    <tr>\n",
       "      <th>1679</th>\n",
       "      <td>1680</td>\n",
       "      <td>Sliding Doors (1998)</td>\n",
       "    </tr>\n",
       "    <tr>\n",
       "      <th>1680</th>\n",
       "      <td>1681</td>\n",
       "      <td>You So Crazy (1994)</td>\n",
       "    </tr>\n",
       "    <tr>\n",
       "      <th>1681</th>\n",
       "      <td>1682</td>\n",
       "      <td>Scream of Stone (Schrei aus Stein) (1991)</td>\n",
       "    </tr>\n",
       "  </tbody>\n",
       "</table>\n",
       "<p>1682 rows × 2 columns</p>\n",
       "</div>"
      ],
      "text/plain": [
       "      movieId                                 movieTitle\n",
       "0           1                           Toy Story (1995)\n",
       "1           2                           GoldenEye (1995)\n",
       "2           3                          Four Rooms (1995)\n",
       "3           4                          Get Shorty (1995)\n",
       "4           5                             Copycat (1995)\n",
       "...       ...                                        ...\n",
       "1677     1678                          Mat' i syn (1997)\n",
       "1678     1679                           B. Monkey (1998)\n",
       "1679     1680                       Sliding Doors (1998)\n",
       "1680     1681                        You So Crazy (1994)\n",
       "1681     1682  Scream of Stone (Schrei aus Stein) (1991)\n",
       "\n",
       "[1682 rows x 2 columns]"
      ]
     },
     "execution_count": 137,
     "metadata": {},
     "output_type": "execute_result"
    }
   ],
   "source": [
    "movies.iloc[:,0:2]"
   ]
  },
  {
   "cell_type": "code",
   "execution_count": 138,
   "id": "f51576a4",
   "metadata": {},
   "outputs": [],
   "source": [
    "# 1、为每个用户生成前 5 个电影推荐\n",
    "user = modelExplicit.recommendForAllUsers(5)"
   ]
  },
  {
   "cell_type": "code",
   "execution_count": 140,
   "id": "6eb386c4",
   "metadata": {},
   "outputs": [
    {
     "data": {
      "text/html": [
       "<div>\n",
       "<style scoped>\n",
       "    .dataframe tbody tr th:only-of-type {\n",
       "        vertical-align: middle;\n",
       "    }\n",
       "\n",
       "    .dataframe tbody tr th {\n",
       "        vertical-align: top;\n",
       "    }\n",
       "\n",
       "    .dataframe thead th {\n",
       "        text-align: right;\n",
       "    }\n",
       "</style>\n",
       "<table border=\"1\" class=\"dataframe\">\n",
       "  <thead>\n",
       "    <tr style=\"text-align: right;\">\n",
       "      <th></th>\n",
       "      <th>userId</th>\n",
       "      <th>recommendations</th>\n",
       "    </tr>\n",
       "  </thead>\n",
       "  <tbody>\n",
       "    <tr>\n",
       "      <th>0</th>\n",
       "      <td>1</td>\n",
       "      <td>[(1193, 5.932034015655518), (793, 5.6091308593...</td>\n",
       "    </tr>\n",
       "    <tr>\n",
       "      <th>1</th>\n",
       "      <td>2</td>\n",
       "      <td>[(854, 6.936951160430908), (1170, 6.8154582977...</td>\n",
       "    </tr>\n",
       "    <tr>\n",
       "      <th>2</th>\n",
       "      <td>3</td>\n",
       "      <td>[(206, 8.405196189880371), (1286, 8.1976528167...</td>\n",
       "    </tr>\n",
       "    <tr>\n",
       "      <th>3</th>\n",
       "      <td>4</td>\n",
       "      <td>[(320, 9.206167221069336), (1438, 8.9592189788...</td>\n",
       "    </tr>\n",
       "    <tr>\n",
       "      <th>4</th>\n",
       "      <td>5</td>\n",
       "      <td>[(793, 8.238310813903809), (1286, 7.5262317657...</td>\n",
       "    </tr>\n",
       "    <tr>\n",
       "      <th>...</th>\n",
       "      <td>...</td>\n",
       "      <td>...</td>\n",
       "    </tr>\n",
       "    <tr>\n",
       "      <th>938</th>\n",
       "      <td>939</td>\n",
       "      <td>[(1631, 8.87443733215332), (1425, 8.6181297302...</td>\n",
       "    </tr>\n",
       "    <tr>\n",
       "      <th>939</th>\n",
       "      <td>940</td>\n",
       "      <td>[(793, 6.4935503005981445), (965, 6.0729646682...</td>\n",
       "    </tr>\n",
       "    <tr>\n",
       "      <th>940</th>\n",
       "      <td>941</td>\n",
       "      <td>[(1199, 7.911586284637451), (1131, 7.793392181...</td>\n",
       "    </tr>\n",
       "    <tr>\n",
       "      <th>941</th>\n",
       "      <td>942</td>\n",
       "      <td>[(1120, 6.606384754180908), (1463, 6.264856338...</td>\n",
       "    </tr>\n",
       "    <tr>\n",
       "      <th>942</th>\n",
       "      <td>943</td>\n",
       "      <td>[(1134, 7.603535175323486), (534, 7.4016833305...</td>\n",
       "    </tr>\n",
       "  </tbody>\n",
       "</table>\n",
       "<p>943 rows × 2 columns</p>\n",
       "</div>"
      ],
      "text/plain": [
       "     userId                                    recommendations\n",
       "0         1  [(1193, 5.932034015655518), (793, 5.6091308593...\n",
       "1         2  [(854, 6.936951160430908), (1170, 6.8154582977...\n",
       "2         3  [(206, 8.405196189880371), (1286, 8.1976528167...\n",
       "3         4  [(320, 9.206167221069336), (1438, 8.9592189788...\n",
       "4         5  [(793, 8.238310813903809), (1286, 7.5262317657...\n",
       "..      ...                                                ...\n",
       "938     939  [(1631, 8.87443733215332), (1425, 8.6181297302...\n",
       "939     940  [(793, 6.4935503005981445), (965, 6.0729646682...\n",
       "940     941  [(1199, 7.911586284637451), (1131, 7.793392181...\n",
       "941     942  [(1120, 6.606384754180908), (1463, 6.264856338...\n",
       "942     943  [(1134, 7.603535175323486), (534, 7.4016833305...\n",
       "\n",
       "[943 rows x 2 columns]"
      ]
     },
     "execution_count": 140,
     "metadata": {},
     "output_type": "execute_result"
    }
   ],
   "source": [
    "#转换为pandas.dataframe\n",
    "df_1 = user.toPandas()\n",
    "df_1"
   ]
  },
  {
   "cell_type": "code",
   "execution_count": 141,
   "id": "2aa85da0",
   "metadata": {},
   "outputs": [
    {
     "name": "stdout",
     "output_type": "stream",
     "text": [
      "<class 'pandas.core.frame.DataFrame'>\n",
      "RangeIndex: 943 entries, 0 to 942\n",
      "Data columns (total 2 columns):\n",
      " #   Column           Non-Null Count  Dtype \n",
      "---  ------           --------------  ----- \n",
      " 0   userId           943 non-null    int32 \n",
      " 1   recommendations  943 non-null    object\n",
      "dtypes: int32(1), object(1)\n",
      "memory usage: 11.2+ KB\n"
     ]
    }
   ],
   "source": [
    "df_1.info()"
   ]
  },
  {
   "cell_type": "code",
   "execution_count": 232,
   "id": "ecc6b9ab",
   "metadata": {},
   "outputs": [
    {
     "name": "stdout",
     "output_type": "stream",
     "text": [
      "输入用户ID(要求为数字，输入错误自动退出！):12\n",
      "对于用户：12；推荐电影：编号:1166，标题:Love & Human Remains (1993)\n",
      "对于用户：12；推荐电影：编号:1131，标题:Safe (1995)\n",
      "对于用户：12；推荐电影：编号:1389，标题:Mondo (1996)\n",
      "对于用户：12；推荐电影：编号:1120，标题:I'm Not Rappaport (1996)\n",
      "对于用户：12；推荐电影：编号:1631，标题:Slingshot, The (1993)\n",
      "==================================================================================\n",
      "输入用户ID(要求为数字，输入错误自动退出！):3\n",
      "对于用户：3；推荐电影：编号:206，标题:Akira (1988)\n",
      "对于用户：3；推荐电影：编号:1286，标题:Shall We Dance? (1937)\n",
      "对于用户：3；推荐电影：编号:793，标题:Crooklyn (1994)\n",
      "对于用户：3；推荐电影：编号:703，标题:Widows' Peak (1994)\n",
      "对于用户：3；推荐电影：编号:1225，标题:Angus (1995)\n",
      "==================================================================================\n",
      "输入用户ID(要求为数字，输入错误自动退出！):45\n",
      "对于用户：45；推荐电影：编号:337，标题:House of Yes, The (1997)\n",
      "对于用户：45；推荐电影：编号:837，标题:Meet John Doe (1941)\n",
      "对于用户：45；推荐电影：编号:1172，标题:Women, The (1939)\n",
      "对于用户：45；推荐电影：编号:945，标题:Charade (1963)\n",
      "对于用户：45；推荐电影：编号:189，标题:Grand Day Out, A (1992)\n",
      "==================================================================================\n",
      "输入用户ID(要求为数字，输入错误自动退出！):-2\n"
     ]
    }
   ],
   "source": [
    "input_user =  '0'#设置开始循环\n",
    "while input_user.isdigit():    #循环条件判断\n",
    "    input_user = input(\"输入用户ID(要求为数字，输入错误自动退出！):\") \n",
    "    #判断输入是否为正确的用户编号\n",
    "    if input_user.isdigit()==False:   \n",
    "        break\n",
    "    elif int(input_user)>943:\n",
    "        break\n",
    "    elif int(input_user)<0:\n",
    "        break\n",
    "    # 提取每个用户的recommendations（包含五部电影）   \n",
    "    user_recommendations = df_1[df_1['userId']==int(input_user)]['recommendations']\n",
    "    #格式化遍历输出\n",
    "    for i in range(5):\n",
    "        temp = user_recommendations.iloc[0][i]\n",
    "        #rating_predict = temp[1]\n",
    "        movieTitle = movies[movies['movieId']==temp[0]]['movieTitle'].iloc[0]\n",
    "        print(f\"对于用户：{input_user}；推荐电影：编号:{temp[0]}，标题:{movieTitle}\")\n",
    "        \n",
    "    print(\"==================================================================================\")\n",
    "    "
   ]
  },
  {
   "cell_type": "code",
   "execution_count": 143,
   "id": "795cdacf",
   "metadata": {},
   "outputs": [],
   "source": [
    "#df.select(alsExplicit.getUserCol()).distinct().orderBy(rand(seed=2)).limit(3).show()"
   ]
  },
  {
   "cell_type": "code",
   "execution_count": 144,
   "id": "e883caa7",
   "metadata": {},
   "outputs": [],
   "source": [
    "# 2、为一组随机指定的用户生成前 5 个电影推荐\n",
    "#（也可以自行指定：自行构造userId的dataframe(pyspark.sql)即可）\n",
    "users = df.select(alsExplicit.getUserCol()).distinct().orderBy(rand(seed=2)).limit(3)\n",
    "users_recommendations = modelExplicit.recommendForUserSubset(users,5)"
   ]
  },
  {
   "cell_type": "code",
   "execution_count": 222,
   "id": "f7c970b2",
   "metadata": {},
   "outputs": [],
   "source": [
    "#转换为pandas.dataframe\n",
    "df_2 = users_recommendations.toPandas()"
   ]
  },
  {
   "cell_type": "code",
   "execution_count": 219,
   "id": "d4ba4dcf",
   "metadata": {},
   "outputs": [
    {
     "name": "stdout",
     "output_type": "stream",
     "text": [
      "对于用户:652;推荐电影：编号:1425,标题:I'll Do Anything (1994)\n",
      "对于用户:652;推荐电影：编号:1097,标题:Hate (Haine, La) (1995)\n",
      "对于用户:652;推荐电影：编号:725,标题:Exit to Eden (1994)\n",
      "对于用户:652;推荐电影：编号:1121,标题:Umbrellas of Cherbourg, The (Parapluies de Cherbourg, Les) (1964)\n",
      "对于用户:652;推荐电影：编号:865,标题:Ice Storm, The (1997)\n",
      "==================================================================================\n",
      "对于用户:376;推荐电影：编号:1015,标题:Shiloh (1997)\n",
      "对于用户:376;推荐电影：编号:320,标题:Paradise Lost: The Child Murders at Robin Hood Hills (1996)\n",
      "对于用户:376;推荐电影：编号:1426,标题:Grace of My Heart (1996)\n",
      "对于用户:376;推荐电影：编号:745,标题:Ruling Class, The (1972)\n",
      "对于用户:376;推荐电影：编号:613,标题:My Man Godfrey (1936)\n",
      "==================================================================================\n",
      "对于用户:46;推荐电影：编号:1256,标题:Designated Mourner, The (1997)\n",
      "对于用户:46;推荐电影：编号:1131,标题:Safe (1995)\n",
      "对于用户:46;推荐电影：编号:1128,标题:Heidi Fleiss: Hollywood Madam (1995) \n",
      "对于用户:46;推荐电影：编号:1462,标题:Thieves (Voleurs, Les) (1996)\n",
      "对于用户:46;推荐电影：编号:1411,标题:Barbarella (1968)\n",
      "==================================================================================\n"
     ]
    }
   ],
   "source": [
    "for user in df_2.userId:  #获得用户Id\n",
    "    #提取每个用户的recommendations（包含五部电影）\n",
    "    recommendations = df_2[df_2.userId==user]['recommendations'].iloc[0] \n",
    "    #格式化遍历输出\n",
    "    for i in range(5):\n",
    "        user_recommendation = recommendations[i]\n",
    "        movieTitle = movies[movies['movieId']==user_recommendation[0]]['movieTitle'].iloc[0]\n",
    "        print(f\"对于用户:{user};推荐电影：编号:{user_recommendation[0]}，标题:{movieTitle}\")\n",
    "    print(\"==================================================================================\")"
   ]
  },
  {
   "cell_type": "code",
   "execution_count": 257,
   "id": "0664b9a1",
   "metadata": {},
   "outputs": [],
   "source": [
    "# 3、为每部电影生成前 5 个用户推荐\n",
    "movie_ = modelExplicit.recommendForAllItems(5)\n",
    "df_3 = movie_.toPandas()"
   ]
  },
  {
   "cell_type": "code",
   "execution_count": 256,
   "id": "75bce19d",
   "metadata": {},
   "outputs": [
    {
     "name": "stdout",
     "output_type": "stream",
     "text": [
      "输入电影ID(要求为数字，输入错误自动退出！):3\n",
      "对于电影：编号：3，标题:Four Rooms (1995)；5个推荐用户：\n",
      "用户编号:153\n",
      "用户编号:220\n",
      "用户编号:362\n",
      "用户编号:353\n",
      "用户编号:34\n",
      "==================================================================================\n",
      "输入电影ID(要求为数字，输入错误自动退出！):67\n",
      "对于电影：编号：67，标题:Ace Ventura: Pet Detective (1994)；5个推荐用户：\n",
      "用户编号:39\n",
      "用户编号:745\n",
      "用户编号:789\n",
      "用户编号:812\n",
      "用户编号:914\n",
      "==================================================================================\n",
      "输入电影ID(要求为数字，输入错误自动退出！):1600\n",
      "对于电影：编号：1600，标题:Guantanamera (1994)；5个推荐用户：\n",
      "用户编号:180\n",
      "用户编号:309\n",
      "用户编号:649\n",
      "用户编号:888\n",
      "用户编号:242\n",
      "==================================================================================\n",
      "输入电影ID(要求为数字，输入错误自动退出！):e\n"
     ]
    }
   ],
   "source": [
    "input_movie =  '0'#设置开始循环\n",
    "while input_movie.isdigit():    #循环条件判断\n",
    "    input_movie = input(\"输入电影ID(要求为数字，输入错误自动退出！):\")     \n",
    "    #判断输入是否为正确的电影ID\n",
    "    if input_movie.isdigit()==False:   \n",
    "        break\n",
    "    elif int(input_movie)>1682:\n",
    "        break\n",
    "    elif int(input_movie)<0:\n",
    "        break\n",
    "        \n",
    "    # 提取每个电影的recommendations（包含五个用户）   \n",
    "    movie_recommendations = df_3[df_3['movieId']==int(input_movie)]['recommendations']\n",
    "    #格式化遍历输出\n",
    "    movieTitle = movies[movies['movieId']==int(input_movie)]['movieTitle'].iloc[0]\n",
    "    print(f\"对于电影：编号：{input_movie}，标题:{movieTitle}；5个推荐用户：\")\n",
    "    for i in range(5):\n",
    "        temp = movie_recommendations.iloc[0][i]\n",
    "        print(f\"用户编号:{temp[0]}\")       \n",
    "    print(\"==================================================================================\")   "
   ]
  },
  {
   "cell_type": "code",
   "execution_count": null,
   "id": "c6d0bffe",
   "metadata": {},
   "outputs": [],
   "source": []
  }
 ],
 "metadata": {
  "kernelspec": {
   "display_name": "Python 3 (ipykernel)",
   "language": "python",
   "name": "python3"
  },
  "language_info": {
   "codemirror_mode": {
    "name": "ipython",
    "version": 3
   },
   "file_extension": ".py",
   "mimetype": "text/x-python",
   "name": "python",
   "nbconvert_exporter": "python",
   "pygments_lexer": "ipython3",
   "version": "3.9.12"
  }
 },
 "nbformat": 4,
 "nbformat_minor": 5
}
